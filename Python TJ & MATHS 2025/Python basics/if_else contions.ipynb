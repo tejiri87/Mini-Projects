{
 "cells": [
  {
   "cell_type": "code",
   "execution_count": null,
   "metadata": {},
   "outputs": [
    {
     "name": "stdout",
     "output_type": "stream",
     "text": [
      "Login Successful\n"
     ]
    }
   ],
   "source": [
    "email= input('Enter your email address')\n",
    "password= input(\"Enter your password\")\n",
    "if email == \"derek@gmail.com\" and password == \"1234\":\n",
    "    print(\"Login Successful\")\n",
    "else:\n",
    "   print(\"Invalid details\")"
   ]
  },
  {
   "cell_type": "code",
   "execution_count": null,
   "metadata": {},
   "outputs": [
    {
     "data": {
      "text/plain": [
       "Minimum number is: 1\n"
      ]
     },
     "metadata": {},
     "output_type": "display_data"
    }
   ],
   "source": [
    "#Find the minimum of 3 numbers\n",
    "num1 = int(input(\"Enter first number\"))\n",
    "num2 = int(input(\"Enter second number\"))\n",
    "num3 = int(input(\"Enter third number\"))\n",
    "\n",
    "if num2>num1 and num3>num2:\n",
    "    print(\"Minimum number is:\",num1)\n",
    "elif num1>num2 and num3>num2:\n",
    "    print(\"Minimum number is:\",num2)\n",
    "else:\n",
    "    print(\"Minimum number is:\",num3)"
   ]
  },
  {
   "cell_type": "code",
   "execution_count": null,
   "metadata": {},
   "outputs": [
    {
     "data": {
      "text/plain": [
       "Balance check\n"
      ]
     },
     "metadata": {},
     "output_type": "display_data"
    }
   ],
   "source": [
    "menu = input(\"\"\"\"\n",
    "Hi there! Welcome to ATM\"\n",
    "Please choose,\"\n",
    "1.Enter 1 for pin change\n",
    "2.Enter 2 for balance check\n",
    "3.Enter 3 for withdrawal\n",
    "4.Enter 4 for deposit\n",
    "\"\"\")\n",
    "if menu == \"1\":\n",
    "    print(\"Pin change\")\n",
    "elif menu == \"2\":\n",
    "    print(\"Balance check\")\n",
    "elif menu == \"3\":\n",
    "    print(\"Withdrawal\")\n",
    "elif menu ==\"4\":\n",
    "    print(\"Deposit\")\n",
    "else:\n",
    "    print(\"Exit\")"
   ]
  },
  {
   "cell_type": "code",
   "execution_count": null,
   "metadata": {},
   "outputs": [],
   "source": [
    "import math\n",
    "\n",
    "math."
   ]
  },
  {
   "cell_type": "code",
   "execution_count": null,
   "metadata": {},
   "outputs": [],
   "source": []
  }
 ],
 "metadata": {
  "kernelspec": {
   "display_name": "Python 3",
   "language": "python",
   "name": "python3"
  },
  "language_info": {
   "codemirror_mode": {
    "name": "ipython",
    "version": 3
   },
   "file_extension": ".py",
   "mimetype": "text/x-python",
   "name": "python",
   "nbconvert_exporter": "python",
   "pygments_lexer": "ipython3",
   "version": "3.13.2"
  }
 },
 "nbformat": 4,
 "nbformat_minor": 2
}
