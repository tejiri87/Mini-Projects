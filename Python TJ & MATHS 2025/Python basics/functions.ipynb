{
 "cells": [
  {
   "cell_type": "code",
   "execution_count": 4,
   "metadata": {},
   "outputs": [
    {
     "data": {
      "text/plain": [
       "'Hello Ahmed,welcome to Python'"
      ]
     },
     "execution_count": 4,
     "metadata": {},
     "output_type": "execute_result"
    }
   ],
   "source": [
    "#Creating a function\n",
    "\n",
    "def greet(name):\n",
    "    output = f\"Hello {name},welcome to Python\"\n",
    "    return output\n",
    "\n",
    "greet(\"Ahmed\")\n"
   ]
  },
  {
   "cell_type": "code",
   "execution_count": 7,
   "metadata": {},
   "outputs": [
    {
     "name": "stdout",
     "output_type": "stream",
     "text": [
      "Welcome Bappy to Python\n",
      "Welcome Ahmed to Python\n",
      "Welcome Tejiri to Python\n",
      "Welcome Sam to Python\n"
     ]
    }
   ],
   "source": [
    "names = [\"Bappy\",\"Ahmed\",\"Tejiri\",\"Sam\"]\n",
    "for name in names:\n",
    "    \n",
    "    print(f\"Welcome {name} to Python\")"
   ]
  },
  {
   "cell_type": "code",
   "execution_count": 13,
   "metadata": {},
   "outputs": [
    {
     "name": "stdout",
     "output_type": "stream",
     "text": [
      "Even number\n"
     ]
    }
   ],
   "source": [
    "#find the even or odd numbers from 1-50\n",
    "def even_odd(num):\n",
    "     if num%2 ==0:\n",
    "        return \"Even number\"\n",
    "     else:\n",
    "             return \"Odd number\"\n",
    "result = even_odd(50)\n",
    "print(result)"
   ]
  },
  {
   "cell_type": "code",
   "execution_count": 14,
   "metadata": {},
   "outputs": [
    {
     "name": "stdout",
     "output_type": "stream",
     "text": [
      "odd\n",
      "Even\n",
      "odd\n",
      "Even\n",
      "odd\n",
      "Even\n",
      "odd\n",
      "Even\n",
      "odd\n",
      "Even\n",
      "odd\n",
      "Even\n",
      "odd\n",
      "Even\n",
      "odd\n",
      "Even\n",
      "odd\n",
      "Even\n",
      "odd\n",
      "Even\n",
      "odd\n",
      "Even\n",
      "odd\n",
      "Even\n",
      "odd\n",
      "Even\n",
      "odd\n",
      "Even\n",
      "odd\n",
      "Even\n",
      "odd\n",
      "Even\n",
      "odd\n",
      "Even\n",
      "odd\n",
      "Even\n",
      "odd\n",
      "Even\n",
      "odd\n",
      "Even\n",
      "odd\n",
      "Even\n",
      "odd\n",
      "Even\n",
      "odd\n",
      "Even\n",
      "odd\n",
      "Even\n",
      "odd\n",
      "Even\n"
     ]
    }
   ],
   "source": [
    "for i in range (1,51):\n",
    "    if i%2 ==0:\n",
    "        print(\"Even\")\n",
    "    else:\n",
    "        print(\"odd\")"
   ]
  },
  {
   "cell_type": "code",
   "execution_count": null,
   "metadata": {},
   "outputs": [
    {
     "name": "stdout",
     "output_type": "stream",
     "text": [
      "120\n"
     ]
    }
   ],
   "source": [
    "def multiply(*bappy):\n",
    "    product =1\n",
    "    for i in bappy:\n",
    "        product = product * i\n",
    "    return product\n",
    "res = multiply(1,2,3,4,5)\n",
    "print(res)\n",
    "\n",
    "#*ARGS FUNCTION"
   ]
  },
  {
   "cell_type": "code",
   "execution_count": 22,
   "metadata": {},
   "outputs": [
    {
     "name": "stdout",
     "output_type": "stream",
     "text": [
      "india -> Dehli\n",
      "None\n"
     ]
    }
   ],
   "source": [
    "#**Kwargs function\n",
    "\n",
    "def display(**bappy):\n",
    "    for (key,value) in bappy.items():\n",
    "        print(f\"{key} -> {value}\")\n",
    "    \n",
    "res = display(india=\"Dehli\")\n",
    "print(res)"
   ]
  },
  {
   "cell_type": "code",
   "execution_count": 3,
   "metadata": {},
   "outputs": [
    {
     "data": {
      "text/plain": [
       "'even'"
      ]
     },
     "execution_count": 3,
     "metadata": {},
     "output_type": "execute_result"
    }
   ],
   "source": [
    "#LAMBDA FUNCTION\n",
    "a = lambda s: 'even' if s%2 == 0 else'odd'\n",
    "a(6)"
   ]
  },
  {
   "cell_type": "code",
   "execution_count": 5,
   "metadata": {},
   "outputs": [
    {
     "data": {
      "text/plain": [
       "[1, 4, 9, 16, 25]"
      ]
     },
     "execution_count": 5,
     "metadata": {},
     "output_type": "execute_result"
    }
   ],
   "source": [
    "#HOF\n",
    "L = [1,2,3,4,5]\n",
    "list(map(lambda x: x**2,L))"
   ]
  },
  {
   "cell_type": "code",
   "execution_count": 7,
   "metadata": {},
   "outputs": [
    {
     "data": {
      "text/plain": [
       "['odd', 'even', 'odd', 'even', 'odd']"
      ]
     },
     "execution_count": 7,
     "metadata": {},
     "output_type": "execute_result"
    }
   ],
   "source": [
    "L = [1,2,3,4,5]\n",
    "map(lambda x: 'even' if x%2 == 0 else 'odd', L)\n",
    "#converting it to a list\n",
    "list(map(lambda x: 'even' if x%2 == 0 else 'odd', L))"
   ]
  },
  {
   "cell_type": "code",
   "execution_count": 13,
   "metadata": {},
   "outputs": [
    {
     "data": {
      "text/plain": [
       "['Male', 'Male', 'Female']"
      ]
     },
     "execution_count": 13,
     "metadata": {},
     "output_type": "execute_result"
    }
   ],
   "source": [
    "#FETCH USERS NAME FROM A LIST OF DICTIONARY\n",
    "users = [\n",
    "    {\n",
    "        \"name\":\"Sunday\",\n",
    "        \"Gender\": \"Male\",\n",
    "        \"Age\": 32\n",
    "        \n",
    "    },\n",
    "    {\n",
    "        \"name\": \"Derek\",\n",
    "        \"Gender\": \"Male\",\n",
    "        \"Age\": 22\n",
    "        \n",
    "    },\n",
    "    {\n",
    "        \"name\": \"Faith\",\n",
    "        \"Gender\": \"Female\",\n",
    "        \"Age\": 21\n",
    "    }\n",
    "]\n",
    "\n",
    "list(map(lambda users:users['Gender'],users))"
   ]
  },
  {
   "cell_type": "code",
   "execution_count": 15,
   "metadata": {},
   "outputs": [
    {
     "data": {
      "text/plain": [
       "['apple', 'almond']"
      ]
     },
     "execution_count": 15,
     "metadata": {},
     "output_type": "execute_result"
    }
   ],
   "source": [
    "#FILTER HOF\n",
    "#fetch fruits starting with 'a'\n",
    "fruits = ['apple','banana','almond']\n",
    "list(filter(lambda x:x.startswith('a'),fruits))"
   ]
  },
  {
   "cell_type": "code",
   "execution_count": null,
   "metadata": {},
   "outputs": [],
   "source": []
  }
 ],
 "metadata": {
  "kernelspec": {
   "display_name": "Python 3",
   "language": "python",
   "name": "python3"
  },
  "language_info": {
   "codemirror_mode": {
    "name": "ipython",
    "version": 3
   },
   "file_extension": ".py",
   "mimetype": "text/x-python",
   "name": "python",
   "nbconvert_exporter": "python",
   "pygments_lexer": "ipython3",
   "version": "3.13.2"
  }
 },
 "nbformat": 4,
 "nbformat_minor": 2
}
