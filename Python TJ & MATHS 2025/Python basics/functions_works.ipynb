{
 "cells": [
  {
   "cell_type": "code",
   "execution_count": 7,
   "metadata": {},
   "outputs": [
    {
     "name": "stdout",
     "output_type": "stream",
     "text": [
      "[1, 2, 3, 4, 5]\n"
     ]
    }
   ],
   "source": [
    "#CREATING A NEW LIST WITH NO REPETITIONS IN IT\n",
    "L = [1,2,2,3,3,4,4,5,5]\n",
    "New_L=[]\n",
    "\n",
    "for L in L:\n",
    "    if L not in New_L:\n",
    "        New_L.append(L)\n",
    "print(New_L)"
   ]
  },
  {
   "cell_type": "code",
   "execution_count": 62,
   "metadata": {},
   "outputs": [
    {
     "name": "stdout",
     "output_type": "stream",
     "text": [
      "black-green-red-white-yellow\n"
     ]
    }
   ],
   "source": [
    "#WRITE A PYTHON FUNCTION THAT ACCEPTS A HYPHEN SEPARATED SEQUENCE AND SORT THEM ALPHABETICALLY\n",
    "color_sequence= \"green-red-yellow-black-white\"\n",
    "\n",
    "def sequenced_colors(color_sequence):\n",
    "    colors =sorted(color_sequence.split(\"-\"))\n",
    "    return \"-\".join(colors)\n",
    "print(sequenced_colors(color_sequence))\n",
    "\n",
    "\n",
    "\n",
    "    \n",
    "\n",
    "    \n",
    "        \n",
    "    \n",
    "    \n",
    "    \n",
    "\n",
    "    \n",
    "\n",
    "\n",
    "\n",
    "\n"
   ]
  },
  {
   "cell_type": "code",
   "execution_count": 75,
   "metadata": {},
   "outputs": [
    {
     "data": {
      "text/plain": [
       "['Derek Tejiri']"
      ]
     },
     "execution_count": 75,
     "metadata": {},
     "output_type": "execute_result"
    }
   ],
   "source": [
    "#FETCH USERS NAME FROM A LIST OF DICTIONARY\n",
    "users = [\n",
    "    {\n",
    "        \"fname\":\"Sunday\",\n",
    "        \"lname\":\"Martins\",\n",
    "        \"Gender\": \"Male\",\n",
    "        \"Age\": 32,\n",
    "        \"Grade\": \"Skilled\"\n",
    "        \n",
    "    },\n",
    "    {\n",
    "        \"fname\": \"Derek\",\n",
    "        \"lname\":\"Tejiri\",\n",
    "        \"Gender\": \"Male\",\n",
    "        \"Age\": 22,\n",
    "        \"Grade\": \"Highly skilled\"\n",
    "        \n",
    "    },\n",
    "    {\n",
    "        \"fname\": \"Faith\",\n",
    "        \"lname\":\"Golly\",\n",
    "        \"Gender\": \"Female\",\n",
    "        \"Age\": 21,\n",
    "        \"Grade\":\"Medium skilled\"\n",
    "    }\n",
    "]\n",
    "\n",
    "# list(filter(lambda users:True if users['Grade']==\"Highly skilled\" else False, users))\n",
    "L =list(filter(lambda users:True if users['Grade']==\"Highly skilled\" else False, users))\n",
    "list(map(lambda users:users['fname']+' '+ users['lname'],L))"
   ]
  },
  {
   "cell_type": "code",
   "execution_count": null,
   "metadata": {},
   "outputs": [],
   "source": []
  }
 ],
 "metadata": {
  "kernelspec": {
   "display_name": "Python 3",
   "language": "python",
   "name": "python3"
  },
  "language_info": {
   "codemirror_mode": {
    "name": "ipython",
    "version": 3
   },
   "file_extension": ".py",
   "mimetype": "text/x-python",
   "name": "python",
   "nbconvert_exporter": "python",
   "pygments_lexer": "ipython3",
   "version": "3.13.2"
  }
 },
 "nbformat": 4,
 "nbformat_minor": 2
}
