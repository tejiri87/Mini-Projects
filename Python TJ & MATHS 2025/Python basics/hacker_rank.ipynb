{
 "cells": [
  {
   "cell_type": "code",
   "execution_count": 24,
   "metadata": {},
   "outputs": [
    {
     "name": "stdout",
     "output_type": "stream",
     "text": [
      "80\n"
     ]
    }
   ],
   "source": [
    "print((5 + 5) * 2 ** 3)"
   ]
  },
  {
   "cell_type": "code",
   "execution_count": 32,
   "metadata": {},
   "outputs": [
    {
     "name": "stdout",
     "output_type": "stream",
     "text": [
      "Not weird\n"
     ]
    }
   ],
   "source": [
    "import random\n",
    "random.randint(1,100)\n",
    "n = int(input(\"Enter number\"))\n",
    "\n",
    "if n % 2 !=0:\n",
    "    print(\"Weird\")\n",
    "elif n % 2 ==0 in range(2,6):\n",
    "    print(\"Not Weird\")\n",
    "elif n % 2 ==0 in range(6,21):\n",
    "    print(\"Not Weird\")\n",
    "elif n % 2 == 0 and n>20:\n",
    "    print(\"Not weird\")\n",
    "else:\n",
    "    print(\"Not Weird\")"
   ]
  },
  {
   "cell_type": "code",
   "execution_count": 50,
   "metadata": {},
   "outputs": [
    {
     "name": "stdout",
     "output_type": "stream",
     "text": [
      "not a leap year\n",
      "not a leap year\n",
      "not a leap year\n",
      "not a leap year\n",
      "not a leap year\n",
      "not a leap year\n",
      "Leap year\n",
      "Leap year\n",
      "not a leap year\n",
      "not a leap year\n"
     ]
    }
   ],
   "source": [
    "years_list = [1800,1900, 2100, 2200, 2300,2500,2000,2400,1992,1990]\n",
    "\n",
    "for year in years_list:\n",
    "    if year % 4 == 0 and year % 100 != 0:\n",
    "        print(\"not a leap year\")\n",
    "    elif year % 400 == 0:\n",
    "        print(\"Leap year\")\n",
    "    else:\n",
    "        print(\"not a leap year\")\n",
    "    \n",
    "        \n",
    "    \n",
    "\n"
   ]
  },
  {
   "cell_type": "code",
   "execution_count": 72,
   "metadata": {},
   "outputs": [
    {
     "name": "stdout",
     "output_type": "stream",
     "text": [
      "['Berry', 'Harry']\n"
     ]
    }
   ],
   "source": [
    "#Given the names and grades for each student in a class of  students, \n",
    "# store them in a nested list and print the name(s) of any student(s) having the second lowest grade\n",
    "#If there are multiple students with the second lowest grade, \n",
    "# order their names alphabetically and print each name on a new line.\n",
    "name = [\"Harry\",\"Berry\",\"Tina\",\"Akriti\",\"Harsh\"]\n",
    "score = [37.21,37.21,37.2,41,39]\n",
    "\n",
    "class_data= list(zip(name,score))\n",
    "sorted_data = sorted(class_data, key=lambda x:x[1])\n",
    "second_lowest_number = sorted_data[1][1]\n",
    "second_lowest_names = [name for name,number in sorted_data if number ==second_lowest_number]\n",
    "print(sorted(second_lowest_names))\n",
    "\n",
    "\n",
    "\n",
    "\n",
    "\n",
    "\n",
    "\n",
    "\n",
    "\n",
    "\n",
    "\n"
   ]
  },
  {
   "cell_type": "code",
   "execution_count": null,
   "metadata": {},
   "outputs": [
    {
     "name": "stdout",
     "output_type": "stream",
     "text": [
      "The runner up number is  5\n"
     ]
    }
   ],
   "source": [
    "scores_str = \"23665\"\n",
    "scores_int = [int(score) for score in scores_str] #List comprehension the converting it to an integer\n",
    "score_rev = sorted(scores_int,reverse= True) #sorting and reversing the list to make 1st runner up easier\n",
    "\n",
    "runner_up =[]\n",
    "for score in score_rev:\n",
    "    if score == score_rev[2]:\n",
    "        runner_up=score\n",
    "print(\"The runner up number is\" \" \",runner_up)\n",
    "        \n",
    "\n",
    "\n",
    "    \n",
    "    \n",
    "\n",
    "\n",
    "\n",
    "\n"
   ]
  },
  {
   "cell_type": "code",
   "execution_count": null,
   "metadata": {},
   "outputs": [
    {
     "name": "stdout",
     "output_type": "stream",
     "text": [
      "Your total products are 5 items and total price costs $2003.8\n"
     ]
    }
   ],
   "source": [
    "\n",
    "\n"
   ]
  },
  {
   "cell_type": "code",
   "execution_count": null,
   "metadata": {},
   "outputs": [],
   "source": []
  }
 ],
 "metadata": {
  "kernelspec": {
   "display_name": "Python 3",
   "language": "python",
   "name": "python3"
  },
  "language_info": {
   "codemirror_mode": {
    "name": "ipython",
    "version": 3
   },
   "file_extension": ".py",
   "mimetype": "text/x-python",
   "name": "python",
   "nbconvert_exporter": "python",
   "pygments_lexer": "ipython3",
   "version": "3.13.2"
  }
 },
 "nbformat": 4,
 "nbformat_minor": 2
}
