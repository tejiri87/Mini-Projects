{
 "cells": [
  {
   "cell_type": "code",
   "execution_count": 13,
   "id": "daa75cf9",
   "metadata": {},
   "outputs": [
    {
     "name": "stdout",
     "output_type": "stream",
     "text": [
      "+234-8053 59 4811\n"
     ]
    }
   ],
   "source": [
    "#KEYWORD ARGUMENT\n",
    "def get_phone(country,area,first,last):\n",
    "    return f\"+{country}-{area} {first} {last}\"\n",
    "phone_number = get_phone(country=234,area = 8053,first = 59,last = 4811)\n",
    "print(phone_number)"
   ]
  },
  {
   "cell_type": "code",
   "execution_count": 32,
   "id": "dde9c78e",
   "metadata": {},
   "outputs": [
    {
     "name": "stdout",
     "output_type": "stream",
     "text": [
      "Dr. Hofster Mclauren \n",
      "No.99, fake street off zarad Warri Delta Niger "
     ]
    }
   ],
   "source": [
    "#*ARGS AND **KWARGS\n",
    "\"\"\"\n",
    "def add(*args):\n",
    "    total = 0\n",
    "    for arg in args:\n",
    "        total +=arg\n",
    "    print(total)\n",
    "add(1,2,3,4,5)\n",
    "\n",
    "def full_name(*args):\n",
    "    for arg in args:\n",
    "        print(arg)\n",
    "\n",
    "full_name(\"Tejiri\")\n",
    "\"\"\"\n",
    "\n",
    "def shipping_label(*args,**kwargs):\n",
    "    for arg in args:\n",
    "        print(arg,end=\" \")\n",
    "    print()\n",
    "   \n",
    "    for value in kwargs.values():\n",
    "        print(value,end=\" \")\n",
    " \n",
    "\n",
    "\n",
    "shipping_label(\"Dr.\",\"Hofster\",\"Mclauren\",\n",
    "               street= \"No.99, fake street off zarad\",\n",
    "               city= \"Warri\",\n",
    "               state=\"Delta\",\n",
    "               country =\"Niger\")\n",
    "\n",
    "\n",
    "\n",
    "\n",
    "    "
   ]
  },
  {
   "cell_type": "code",
   "execution_count": 37,
   "id": "b6f8a5d4",
   "metadata": {},
   "outputs": [
    {
     "name": "stdout",
     "output_type": "stream",
     "text": [
      "Brazy's grade is C\n"
     ]
    }
   ],
   "source": [
    "#MEMBERSHIP OPERATORS (SETS)\n",
    "\n",
    "grades = {\"Tejiri\": \"A\",\n",
    "          \"Afoke\": \"A\",\n",
    "          \"Brazy\": \"C\",\n",
    "          \"Adams\": \"B\",\n",
    "          \"Felix\": \"A\"}\n",
    "student = input(\"Enter the name of a student\")\n",
    "if student in grades:\n",
    "    print(f\"{student}'s grade is {grades[student]}\")\n",
    "else:\n",
    "    print(f\"{student} grade is not found\")"
   ]
  },
  {
   "cell_type": "code",
   "execution_count": null,
   "id": "c9f4814e",
   "metadata": {},
   "outputs": [
    {
     "name": "stdout",
     "output_type": "stream",
     "text": [
      "['Banana', 'Apple', 'Guava', 'Mango', 'Pear']\n",
      "[85, 92, 74, 87, 87]\n",
      "85 92 74 87 87 "
     ]
    }
   ],
   "source": [
    "#LIST COMPREHENSION\n",
    "#A more concise way to create lists in python, instead of the traditional loops\n",
    "fruits= [\"banana\",\"apple\",\"guava\",\"mango\",\"pear\"]\n",
    "fruit = [fruit.capitalize() for fruit in fruits ]\n",
    "print(fruit)\n",
    "\n",
    "#LIST COMPREHENSION & FOR LOOP\n",
    "L = [85,48,92,74,87,48,87]\n",
    "passing_grade = [ numbers for numbers in L if numbers>70]\n",
    "print(passing_grade)\n",
    "\n",
    "for numbers in L:\n",
    "    if numbers >=70:\n",
    "        print(numbers,end=' ')\n",
    "\n",
    "\n",
    "\n",
    "\n",
    "\n"
   ]
  },
  {
   "cell_type": "code",
   "execution_count": 1,
   "id": "30e424b8",
   "metadata": {},
   "outputs": [
    {
     "name": "stdout",
     "output_type": "stream",
     "text": [
      "['In', 'Out', '_', '__', '___', '__builtin__', '__builtins__', '__doc__', '__loader__', '__name__', '__package__', '__spec__', '__vsc_ipynb_file__', '_dh', '_i', '_i1', '_ih', '_ii', '_iii', '_oh', 'exit', 'get_ipython', 'open', 'quit']\n"
     ]
    }
   ],
   "source": [
    "print(dir())"
   ]
  },
  {
   "cell_type": "code",
   "execution_count": null,
   "id": "26312b64",
   "metadata": {},
   "outputs": [
    {
     "name": "stdout",
     "output_type": "stream",
     "text": [
      "[1, 4, 9, 16, 25]\n",
      "[3, 4, 5]\n"
     ]
    },
    {
     "data": {
      "text/plain": [
       "15"
      ]
     },
     "execution_count": 18,
     "metadata": {},
     "output_type": "execute_result"
    }
   ],
   "source": [
    "#MAP\n",
    "L = [1,2,3,4,5]\n",
    "print(list(map(lambda x:x**2,L)))\n",
    "\n",
    "#FILTER\n",
    "print(list(filter(lambda x:x>2,L)))\n",
    "\n",
    "#REDUCE\n",
    "import functools\n",
    "functools.reduce(lambda x,y:x+y,L)"
   ]
  },
  {
   "cell_type": "code",
   "execution_count": null,
   "id": "73f106be",
   "metadata": {},
   "outputs": [],
   "source": []
  }
 ],
 "metadata": {
  "kernelspec": {
   "display_name": "Python 3",
   "language": "python",
   "name": "python3"
  },
  "language_info": {
   "codemirror_mode": {
    "name": "ipython",
    "version": 3
   },
   "file_extension": ".py",
   "mimetype": "text/x-python",
   "name": "python",
   "nbconvert_exporter": "python",
   "pygments_lexer": "ipython3",
   "version": "3.13.2"
  }
 },
 "nbformat": 4,
 "nbformat_minor": 5
}
