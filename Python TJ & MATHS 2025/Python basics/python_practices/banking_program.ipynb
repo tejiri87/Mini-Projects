{
 "cells": [
  {
   "cell_type": "markdown",
   "id": "4dd1346a",
   "metadata": {},
   "source": [
    "BANKING PROGRAM\n",
    "1) SHOW BALANCE\n",
    "2) DEPOSIT\n",
    "3) WITHDRAW\n",
    "\n"
   ]
  },
  {
   "cell_type": "code",
   "execution_count": 1,
   "id": "13d6e200",
   "metadata": {},
   "outputs": [
    {
     "name": "stdout",
     "output_type": "stream",
     "text": [
      "Banking program\n",
      "1.Show Balance\n",
      "2.Deposit\n",
      "3.Withdraw\n",
      "4.Exit\n"
     ]
    },
    {
     "name": "stdout",
     "output_type": "stream",
     "text": [
      "Banking program\n",
      "1.Show Balance\n",
      "2.Deposit\n",
      "3.Withdraw\n",
      "4.Exit\n",
      "Your balance is $10000.00\n",
      "Banking program\n",
      "1.Show Balance\n",
      "2.Deposit\n",
      "3.Withdraw\n",
      "4.Exit\n",
      "Banking program\n",
      "1.Show Balance\n",
      "2.Deposit\n",
      "3.Withdraw\n",
      "4.Exit\n",
      "Your balance is $7000.00\n",
      "Banking program\n",
      "1.Show Balance\n",
      "2.Deposit\n",
      "3.Withdraw\n",
      "4.Exit\n",
      "Banking program\n",
      "1.Show Balance\n",
      "2.Deposit\n",
      "3.Withdraw\n",
      "4.Exit\n",
      "Your balance is $3000.00\n",
      "Banking program\n",
      "1.Show Balance\n",
      "2.Deposit\n",
      "3.Withdraw\n",
      "4.Exit\n",
      "Banking program\n",
      "1.Show Balance\n",
      "2.Deposit\n",
      "3.Withdraw\n",
      "4.Exit\n",
      "Your balance is $1000.00\n",
      "Banking program\n",
      "1.Show Balance\n",
      "2.Deposit\n",
      "3.Withdraw\n",
      "4.Exit\n",
      "Insufficient funds\n"
     ]
    },
    {
     "ename": "TypeError",
     "evalue": "unsupported operand type(s) for -: 'float' and 'NoneType'",
     "output_type": "error",
     "traceback": [
      "\u001b[31m---------------------------------------------------------------------------\u001b[39m",
      "\u001b[31mTypeError\u001b[39m                                 Traceback (most recent call last)",
      "\u001b[36mCell\u001b[39m\u001b[36m \u001b[39m\u001b[32mIn[1]\u001b[39m\u001b[32m, line 37\u001b[39m\n\u001b[32m     35\u001b[39m     balance = balance + deposit()  \n\u001b[32m     36\u001b[39m \u001b[38;5;28;01melif\u001b[39;00m choice == \u001b[33m'\u001b[39m\u001b[33m3\u001b[39m\u001b[33m'\u001b[39m:\n\u001b[32m---> \u001b[39m\u001b[32m37\u001b[39m    balance = \u001b[43mbalance\u001b[49m\u001b[43m \u001b[49m\u001b[43m-\u001b[49m\u001b[43m \u001b[49m\u001b[43mwithdraw\u001b[49m\u001b[43m(\u001b[49m\u001b[43m)\u001b[49m   \n\u001b[32m     38\u001b[39m \u001b[38;5;28;01melif\u001b[39;00m choice == \u001b[33m'\u001b[39m\u001b[33m4\u001b[39m\u001b[33m'\u001b[39m:\n\u001b[32m     39\u001b[39m     is_running = \u001b[38;5;28;01mFalse\u001b[39;00m\n",
      "\u001b[31mTypeError\u001b[39m: unsupported operand type(s) for -: 'float' and 'NoneType'"
     ]
    }
   ],
   "source": [
    "def show_balance():\n",
    "    print(f\"Your balance is ${balance:.2f}\")  \n",
    "\n",
    "def deposit():\n",
    "    amount = float(input(\"Enter an amount to be deposited:\"))\n",
    "    if amount <=0:\n",
    "        print(\"Invalid deposit amount\")\n",
    "    else:\n",
    "        return amount\n",
    "\n",
    "def withdraw():\n",
    "    withdrawal = float(input(\"Enter an amount to be withdrawn:\"))\n",
    "    if withdrawal <=0:\n",
    "        print(\"Invalid withdrawal amount\")\n",
    "    elif withdrawal > balance:\n",
    "        print(\"Insufficient funds\")\n",
    "    else:\n",
    "        return withdrawal\n",
    "\n",
    "balance = 0\n",
    "\n",
    "\n",
    "while True:\n",
    "    print(\"Banking program\")\n",
    "    print(\"1.Show Balance\")\n",
    "    print(\"2.Deposit\")\n",
    "    print(\"3.Withdraw\")\n",
    "    print(\"4.Exit\")\n",
    "    \n",
    "    choice = input(\"Enter your choice (1-4):\")\n",
    "    \n",
    "    if choice == '1':\n",
    "        show_balance()  \n",
    "    elif choice == '2':\n",
    "        balance = balance + deposit()  \n",
    "    elif choice == '3':\n",
    "       balance = balance - withdraw()   \n",
    "    elif choice == '4':\n",
    "        is_running = False\n",
    "    else:\n",
    "        print(\"NOT A VALID KEY\")\n",
    "\n",
    "print(\"Thank you, Have a nice day\")\n",
    "      \n",
    "        \n"
   ]
  },
  {
   "cell_type": "code",
   "execution_count": null,
   "id": "058a07a8",
   "metadata": {},
   "outputs": [],
   "source": []
  }
 ],
 "metadata": {
  "kernelspec": {
   "display_name": "Python 3",
   "language": "python",
   "name": "python3"
  },
  "language_info": {
   "codemirror_mode": {
    "name": "ipython",
    "version": 3
   },
   "file_extension": ".py",
   "mimetype": "text/x-python",
   "name": "python",
   "nbconvert_exporter": "python",
   "pygments_lexer": "ipython3",
   "version": "3.13.2"
  }
 },
 "nbformat": 4,
 "nbformat_minor": 5
}
