{
 "cells": [
  {
   "cell_type": "code",
   "execution_count": 12,
   "id": "d40282a7",
   "metadata": {},
   "outputs": [
    {
     "name": "stdout",
     "output_type": "stream",
     "text": [
      "The number of cars I have in my car stand is 3 and my best car there is the M4 competition\n"
     ]
    },
    {
     "ename": "AttributeError",
     "evalue": "'car' object has no attribute 'brand'",
     "output_type": "error",
     "traceback": [
      "\u001b[31m---------------------------------------------------------------------------\u001b[39m",
      "\u001b[31mAttributeError\u001b[39m                            Traceback (most recent call last)",
      "\u001b[36mCell\u001b[39m\u001b[36m \u001b[39m\u001b[32mIn[12]\u001b[39m\u001b[32m, line 19\u001b[39m\n\u001b[32m     17\u001b[39m car3 = car(\u001b[33m\"\u001b[39m\u001b[33mHonda\u001b[39m\u001b[33m\"\u001b[39m,\u001b[32m2015\u001b[39m,\u001b[33m\"\u001b[39m\u001b[33mwhite\u001b[39m\u001b[33m\"\u001b[39m,\u001b[33m\"\u001b[39m\u001b[33mYes\u001b[39m\u001b[33m\"\u001b[39m)\n\u001b[32m     18\u001b[39m \u001b[38;5;28mprint\u001b[39m(\u001b[33mf\u001b[39m\u001b[33m\"\u001b[39m\u001b[33mThe number of cars I have in my car stand is \u001b[39m\u001b[38;5;132;01m{\u001b[39;00mcar.car_num\u001b[38;5;132;01m}\u001b[39;00m\u001b[33m and my best car there is the \u001b[39m\u001b[38;5;132;01m{\u001b[39;00mcar.car_model\u001b[38;5;132;01m}\u001b[39;00m\u001b[33m\"\u001b[39m)\n\u001b[32m---> \u001b[39m\u001b[32m19\u001b[39m \u001b[38;5;28mprint\u001b[39m(\u001b[43mcar1\u001b[49m\u001b[43m.\u001b[49m\u001b[43mbrand\u001b[49m)\n",
      "\u001b[31mAttributeError\u001b[39m: 'car' object has no attribute 'brand'"
     ]
    }
   ],
   "source": [
    "#Object Oriented Programming (OOP)\n",
    "\n",
    "class car:\n",
    "    car_model = \"M4 competition\"     #THIS IS A CLASS VARIABLE,#class variables are defined outside the constructor\n",
    "    car_num = 0\n",
    "                                          \n",
    "    def __init__(self,brand,year,color,for_sale): #this is a constructor\n",
    "        self.model = brand     #THESE ARE ALL INSTANCE VARIABLES\n",
    "        self.year = year        #''''''''''''''''''''''''''''''\n",
    "        self.color = color      #''''''''''''''''''''''''''''''\n",
    "        self.for_sale = for_sale    #''''''''''''''''''''''''''''\n",
    "        car.car_num +=1\n",
    "                                        \n",
    "\n",
    "car1 = car(\"BMW\",\"2025\",\"Black\",\"false\")\n",
    "car2 = car(\"Corrolla\",\"2018\",\"Grey\",\"True\")\n",
    "car3 = car(\"Honda\",2015,\"white\",\"Yes\")\n",
    "print(f\"The number of cars I have in my car stand is {car.car_num} and my best car there is the {car.car_model}\")\n",
    "print(car1.brand)"
   ]
  },
  {
   "cell_type": "code",
   "execution_count": null,
   "id": "e695dac4",
   "metadata": {},
   "outputs": [
    {
     "name": "stdout",
     "output_type": "stream",
     "text": [
      "Tiger\n",
      "True\n",
      "Tiger is eating\n",
      "None\n",
      "Tiger is sleeping\n",
      "None\n"
     ]
    }
   ],
   "source": [
    "\n",
    "#PYTHON INHERITANCE\n",
    "\n",
    "class Animal:\n",
    "    def __init__(self,name):\n",
    "        self.name = name\n",
    "        self.is_alive = True\n",
    "    \n",
    "    def eat(self):\n",
    "        print(f\"{self.name} is eating\")\n",
    "    def sleep(self):\n",
    "        print(f\"{self.name} is sleeping\")\n",
    "\n",
    "class Dog(Animal):\n",
    "    pass\n",
    "class cat(Animal):\n",
    "    pass\n",
    "class Mouse(Animal):\n",
    "    pass\n",
    "\n",
    "Dog = Dog(\"Tiger\")\n",
    "Cat = cat(\"Tom\")\n",
    "Mouse = Mouse(\"Jerry\")\n",
    "\n",
    "print(Dog.name)\n",
    "print(Dog.is_alive)   \n",
    "print(Dog.eat()) \n",
    "print(Dog.sleep())    "
   ]
  },
  {
   "cell_type": "code",
   "execution_count": null,
   "id": "694f5f6c",
   "metadata": {},
   "outputs": [
    {
     "name": "stdout",
     "output_type": "stream",
     "text": [
      "This animal is fleeing\n"
     ]
    }
   ],
   "source": [
    "#MULTIPLE INHERITANCE\n",
    "class Prey():\n",
    "    def flee(self):\n",
    "        print(\"This animal is fleeing\")\n",
    "\n",
    "class Predator():\n",
    "    def hunt(self):\n",
    "        print(\"This animal is hunting\")\n",
    "\n",
    "class rabbit(Prey):\n",
    "    pass\n",
    "\n",
    "class hawk(Predator):\n",
    "    pass\n",
    "\n",
    "class fish(Prey,Predator):\n",
    "    pass\n",
    "\n",
    "rabbit = rabbit()\n",
    "hawk = hawk()\n",
    "fish = fish()\n",
    "\n",
    "rabbit.flee()\n",
    "\n"
   ]
  },
  {
   "cell_type": "code",
   "execution_count": null,
   "id": "0c1e8cf2",
   "metadata": {},
   "outputs": [],
   "source": [
    "#POLYMORPHISM\n",
    "\n",
    "class shape:\n",
    "    pass\n",
    "\n",
    "class circle(shape):\n",
    "    pass\n",
    "\n",
    "class square(shape):\n",
    "    pass\n",
    "\n",
    "class triangle(shape):\n",
    "    pass\n",
    "\n",
    "circle =circle()\n",
    "    "
   ]
  },
  {
   "cell_type": "code",
   "execution_count": null,
   "id": "2365e8e8",
   "metadata": {},
   "outputs": [
    {
     "name": "stdout",
     "output_type": "stream",
     "text": [
      "WOOF!\n",
      "MEOW\n"
     ]
    }
   ],
   "source": [
    "#DUCK TYPING\n",
    "class Animal:\n",
    "    alive = True\n",
    "\n",
    "class Dog(Animal):\n",
    "    def speak(self):\n",
    "        print(\"WOOF!\")\n",
    "\n",
    "class Cat(Animal):\n",
    "    def speak(self):\n",
    "        print(\"MEOW\")\n",
    "\n",
    "animals = [Dog(),Cat()]\n",
    "\n",
    "for animal in animals:\n",
    "    animal.speak()\n",
    "    "
   ]
  },
  {
   "cell_type": "code",
   "execution_count": null,
   "id": "35e8d509",
   "metadata": {},
   "outputs": [
    {
     "name": "stdout",
     "output_type": "stream",
     "text": [
      "Spirit of leadership\n"
     ]
    }
   ],
   "source": [
    "#AGGREGATION\n",
    "\n",
    "class Library:\n",
    "    def __init__(self,name):\n",
    "        self.name =name\n",
    "        self.books =[]\n",
    "        \n",
    "    def add_book(self,book):\n",
    "        self.books.append(book)\n",
    "    \n",
    "class Book:\n",
    "    def __init__(self,title,author):\n",
    "        self.title = title\n",
    "        self.author = author\n",
    "\n",
    "library = Library(\"Cypher public library\")\n",
    "book1 = Book(\"Richest man in babylon\",\"George.S Clason\")\n",
    "book2 = Book(\"Time management\",\"Brian Tracy\")\n",
    "book3 = Book(\"Spirit of leadership\",\"Myles Munroe\")\n",
    "\n",
    "print(book3.title)\n",
    "\n",
    "    "
   ]
  },
  {
   "cell_type": "code",
   "execution_count": null,
   "id": "31a0a03a",
   "metadata": {},
   "outputs": [
    {
     "name": "stdout",
     "output_type": "stream",
     "text": [
      "[91, 83, 75, 67]\n",
      "[91, 83, 75, 67]\n"
     ]
    }
   ],
   "source": [
    "#FILTER()\n",
    "\n",
    "grades = [91,32,83,44,75,56,67]\n",
    "\n",
    "def is_passing(grade):\n",
    "    return grade >=60\n",
    "\n",
    "passing_grade = list(filter(is_passing,grades))\n",
    "print(passing_grade)\n",
    "\n",
    "passing_grade = list(filter(lambda grade:grade >=60,grades))\n",
    "print(passing_grade)\n"
   ]
  },
  {
   "cell_type": "code",
   "execution_count": null,
   "id": "8419c876",
   "metadata": {},
   "outputs": [
    {
     "name": "stdout",
     "output_type": "stream",
     "text": [
      "50.72\n",
      "50.72\n"
     ]
    }
   ],
   "source": [
    "#REDUCE()\n",
    "prices = [19.99,1.00,5.75,12.99,10.99]\n",
    "\n",
    "from functools import reduce\n",
    "def add(x,y):\n",
    "    return x + y \n",
    "total = reduce(add,prices)\n",
    "print(total)\n",
    "\n",
    "total = reduce(lambda x,y: x + y,prices)\n",
    "print(total)\n",
    "\n"
   ]
  },
  {
   "cell_type": "code",
   "execution_count": null,
   "id": "ea16245c",
   "metadata": {},
   "outputs": [
    {
     "name": "stdout",
     "output_type": "stream",
     "text": [
      "John\n",
      "John(36)\n"
     ]
    }
   ],
   "source": [
    "#STR() FUNCTION IN CLASSES\n",
    "\n",
    "##WITHOUT STR() FUNCTION\n",
    "class Person:\n",
    "  def __init__(self, name, age):\n",
    "    self.name = name\n",
    "    self.age = age\n",
    "\n",
    "p1 = Person(\"John\", 36)\n",
    "\n",
    "print(p1.name)\n",
    "\n",
    "#WITH STR() FUNCTION\n",
    "\n",
    "class Person:\n",
    "  def __init__(self, name, age):\n",
    "    self.name = name\n",
    "    self.age = age\n",
    "\n",
    "  def __str__(self):\n",
    "    return f\"{self.name}({self.age})\"\n",
    "\n",
    "p1 = Person(\"John\", 36)\n",
    "\n",
    "print(p1)\n",
    "\n",
    "\n"
   ]
  },
  {
   "cell_type": "code",
   "execution_count": null,
   "id": "d471a4ed",
   "metadata": {},
   "outputs": [
    {
     "name": "stdout",
     "output_type": "stream",
     "text": [
      "Hello my name is John\n"
     ]
    }
   ],
   "source": [
    "#OBJECT METHODS\n",
    "class Person:\n",
    "  def __init__(self, name, age):\n",
    "    self.name = name\n",
    "    self.age = age\n",
    "\n",
    "  def myfunc(self):\n",
    "    print(\"Hello my name is \" + self.name)\n",
    "\n",
    "p1 = Person(\"John\", 36)\n",
    "p1.myfunc()"
   ]
  },
  {
   "cell_type": "code",
   "execution_count": null,
   "id": "f696fac4",
   "metadata": {},
   "outputs": [
    {
     "name": "stdout",
     "output_type": "stream",
     "text": [
      "John Doe\n",
      "Mike Mark\n"
     ]
    }
   ],
   "source": [
    "#INHERITANCE \n",
    "class Person:  #PARENT CLASS\n",
    "  def __init__(self, fname, lname):\n",
    "    self.firstname = fname\n",
    "    self.lastname = lname\n",
    "\n",
    "  def printname(self):\n",
    "    print(self.firstname, self.lastname)\n",
    "\n",
    "#Use the Person class to create an object, and then execute the printname method:\n",
    "\n",
    "x = Person(\"John\", \"Doe\")\n",
    "x.printname()\n",
    "\n",
    "class Student(Person): #CHILD CLASS\n",
    "  def __init__(self, fname, lname):\n",
    "    Person.__init__(self, fname, lname)\n",
    "\n",
    "x = Student(\"Mike\",\"Mark\")\n",
    "x.printname()"
   ]
  },
  {
   "cell_type": "code",
   "execution_count": null,
   "id": "dcc44690",
   "metadata": {},
   "outputs": [],
   "source": [
    "#SUPER FUNCTION ALSO ALLOWS THE CHILD CLASS TO INHERIT ALL PROPERTIES FROM THE PARENT CLASS\n",
    "class Student(Person):\n",
    "  def __init__(self, fname, lname):\n",
    "    super().__init__(fname, lname)\n",
    "    \n",
    "#I CAN ALSO ADD PROPERTIES TO THE CLASS FUNCTION THE WAY YOU CAN APPEND IN LISTS\n",
    "class Student(Person):\n",
    "  def __init__(self, fname, lname):\n",
    "    super().__init__(fname, lname)\n",
    "    self.graduationyear = 2019 #ADDED PROPERTY\n",
    "    \n",
    "#OR SINCE IT IS THE STUDENT (CHILD CLASS) A NEW PARAMETER (YEAR) CAN BE ADDED TO THE STUDENT CLASS\n",
    "class Student(Person):\n",
    "  def __init__(self, fname, lname, year):\n",
    "    super().__init__(fname, lname)\n",
    "    self.graduationyear = year\n",
    "\n",
    "x = Student(\"Mike\", \"Olsen\", 2019)\n",
    "\n",
    "#ADD METHOD\n",
    "class Student(Person):\n",
    "  def __init__(self, fname, lname, year):\n",
    "    super().__init__(fname, lname)\n",
    "    self.graduationyear = year\n",
    "\n",
    "  def welcome(self): #A METHOD\n",
    "    print(\"Welcome\", self.firstname, self.lastname, \"to the class of\", self.graduationyear)"
   ]
  },
  {
   "cell_type": "code",
   "execution_count": null,
   "id": "ef5b09df",
   "metadata": {},
   "outputs": [
    {
     "name": "stdout",
     "output_type": "stream",
     "text": [
      "Ford\n",
      "Mustang\n",
      "Move!\n",
      "Ibiza\n",
      "Touring 20\n",
      "Sail!\n",
      "Boeing\n",
      "747\n",
      "Fly!\n"
     ]
    }
   ],
   "source": [
    "#POLYMORPHISM\n",
    "class Vehicle:\n",
    "  def __init__(self, brand, model):\n",
    "    self.brand = brand\n",
    "    self.model = model\n",
    "\n",
    "  def move(self):\n",
    "    print(\"Move!\")\n",
    "\n",
    "class Car(Vehicle):\n",
    "  pass\n",
    "\n",
    "class Boat(Vehicle):\n",
    "  def move(self):\n",
    "    print(\"Sail!\")\n",
    "\n",
    "class Plane(Vehicle):\n",
    "  def move(self):\n",
    "    print(\"Fly!\")\n",
    "\n",
    "car1 = Car(\"Ford\", \"Mustang\")       #Create a Car object\n",
    "boat1 = Boat(\"Ibiza\", \"Touring 20\") #Create a Boat object\n",
    "plane1 = Plane(\"Boeing\", \"747\")     #Create a Plane object\n",
    "\n",
    "for x in (car1, boat1, plane1):\n",
    "  print(x.brand)\n",
    "  print(x.model)\n",
    "  x.move()\n",
    "  "
   ]
  },
  {
   "cell_type": "code",
   "execution_count": null,
   "id": "d8cfb775",
   "metadata": {},
   "outputs": [
    {
     "name": "stdout",
     "output_type": "stream",
     "text": [
      "<__main__.Plane object at 0x0000025EEE660050>\n",
      "<__main__.Plane object at 0x0000025EEE660050>\n",
      "Hello\n",
      "Nothing went wrong\n",
      "<__main__.Plane object at 0x0000025EEE660050>\n",
      "The 'try except' is finished\n"
     ]
    },
    {
     "ename": "TypeError",
     "evalue": "Only integers are allowed",
     "output_type": "error",
     "traceback": [
      "\u001b[31m---------------------------------------------------------------------------\u001b[39m",
      "\u001b[31mTypeError\u001b[39m                                 Traceback (most recent call last)",
      "\u001b[36mCell\u001b[39m\u001b[36m \u001b[39m\u001b[32mIn[13]\u001b[39m\u001b[32m, line 36\u001b[39m\n\u001b[32m     33\u001b[39m x = \u001b[33m\"\u001b[39m\u001b[33mhello\u001b[39m\u001b[33m\"\u001b[39m\n\u001b[32m     35\u001b[39m \u001b[38;5;28;01mif\u001b[39;00m \u001b[38;5;129;01mnot\u001b[39;00m \u001b[38;5;28mtype\u001b[39m(x) \u001b[38;5;129;01mis\u001b[39;00m \u001b[38;5;28mint\u001b[39m:\n\u001b[32m---> \u001b[39m\u001b[32m36\u001b[39m   \u001b[38;5;28;01mraise\u001b[39;00m \u001b[38;5;167;01mTypeError\u001b[39;00m(\u001b[33m\"\u001b[39m\u001b[33mOnly integers are allowed\u001b[39m\u001b[33m\"\u001b[39m)\n",
      "\u001b[31mTypeError\u001b[39m: Only integers are allowed"
     ]
    }
   ],
   "source": [
    "#TRY - EXCEPT \n",
    "try:\n",
    "  print(x)\n",
    "except:\n",
    "  print(\"An exception occurred\")\n",
    "  \n",
    "  \n",
    "try:\n",
    "  print(x)\n",
    "except NameError:\n",
    "  print(\"Variable x is not defined\")\n",
    "except:\n",
    "  print(\"Something else went wrong\")\n",
    "  \n",
    "  \n",
    "\n",
    "try:\n",
    "  print(\"Hello\")\n",
    "except:\n",
    "  print(\"Something went wrong\")\n",
    "else:\n",
    "  print(\"Nothing went wrong\")\n",
    "  \n",
    "  \n",
    "try:\n",
    "  print(x)\n",
    "except:\n",
    "  print(\"Something went wrong\")\n",
    "finally:\n",
    "  print(\"The 'try except' is finished\")\n",
    "  \n",
    "# RAISING AN EXCEPTION\n",
    "x = \"hello\"\n",
    "\n",
    "if not type(x) is int:\n",
    "  raise TypeError(\"Only integers are allowed\")\n",
    "  \n",
    "  \n",
    "  \n",
    "  \n",
    "  \n",
    "  \n",
    "\n",
    "\n",
    "\n"
   ]
  },
  {
   "cell_type": "code",
   "execution_count": null,
   "id": "3236c865",
   "metadata": {},
   "outputs": [],
   "source": []
  }
 ],
 "metadata": {
  "kernelspec": {
   "display_name": "Python 3",
   "language": "python",
   "name": "python3"
  },
  "language_info": {
   "codemirror_mode": {
    "name": "ipython",
    "version": 3
   },
   "file_extension": ".py",
   "mimetype": "text/x-python",
   "name": "python",
   "nbconvert_exporter": "python",
   "pygments_lexer": "ipython3",
   "version": "3.13.2"
  }
 },
 "nbformat": 4,
 "nbformat_minor": 5
}
