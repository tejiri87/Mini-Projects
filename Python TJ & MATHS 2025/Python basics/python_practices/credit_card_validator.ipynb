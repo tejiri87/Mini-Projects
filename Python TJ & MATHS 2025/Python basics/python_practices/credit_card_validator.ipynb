{
 "cells": [
  {
   "cell_type": "markdown",
   "id": "ebcadeb5",
   "metadata": {},
   "source": [
    "Python credit card validator program\n",
    "\n",
    "1. Remove any '-' or ' '\n",
    "2. Add all digits in the odd places from right to left\n",
    "3. Double every second digit from right to left.\n",
    "(If result is a two-digit number,\n",
    "add the two-digit number together to get a single digit.)\n",
    "4. Sum the totals of steps 2 & 3\n",
    "5. If sum is divisible by 10, the credit card # is valid"
   ]
  },
  {
   "cell_type": "code",
   "execution_count": null,
   "id": "2e37f174",
   "metadata": {},
   "outputs": [
    {
     "name": "stdout",
     "output_type": "stream",
     "text": [
      "6543210987654321\n"
     ]
    },
    {
     "ename": "SyntaxError",
     "evalue": "'break' outside loop (1378836001.py, line 11)",
     "output_type": "error",
     "traceback": [
      "  \u001b[36mCell\u001b[39m\u001b[36m \u001b[39m\u001b[32mIn[3]\u001b[39m\u001b[32m, line 11\u001b[39m\n\u001b[31m    \u001b[39m\u001b[31mbreak\u001b[39m\n    ^\n\u001b[31mSyntaxError\u001b[39m\u001b[31m:\u001b[39m 'break' outside loop\n"
     ]
    }
   ],
   "source": [
    "sum_odd_digits = 0\n",
    "sum_even_digits = 0\n",
    "total = 0\n",
    "\n",
    "#step 1\n",
    "card_number = input(\"Enter your credit card number:\")\n",
    "card_number = card_number.replace(\"-\",\"\")\n",
    "card_number = card_number.replace(\" \",\"\")\n",
    "card_number = card_number[::-1] #reversed according to luhn's algorithm\n",
    "\n",
    "#step 2\n",
    "for number in card_number[::2]: #the reason for this step 2 is to correctly iterate over the correct card number because during reversing the even number has become the odd and vice-versa\n",
    "    sum_odd_digits += int(number)\n",
    "    \n",
    "#step 3\n",
    "for number in card_number[1::2]:\n",
    "    number = int(number) *2\n",
    "    if number >=10:\n",
    "        sum_even_digits += (1+ (number%10))\n",
    "    else:\n",
    "        sum_even_digits += number\n",
    "\n",
    "#step 4\n",
    "total = sum_odd_digits + sum_even_digits\n",
    "\n",
    "#step 5\n",
    "if total % 10 ==0:\n",
    "    print(\"VALID\")\n",
    "else:\n",
    "    print(\"INVALID\")\n",
    "    \n",
    "    \n"
   ]
  },
  {
   "cell_type": "code",
   "execution_count": null,
   "id": "e3efa984",
   "metadata": {},
   "outputs": [],
   "source": [
    "\n",
    "        \n",
    "    \n",
    "    \n",
    "    "
   ]
  },
  {
   "cell_type": "code",
   "execution_count": null,
   "id": "62d36da8",
   "metadata": {},
   "outputs": [],
   "source": []
  }
 ],
 "metadata": {
  "kernelspec": {
   "display_name": "Python 3",
   "language": "python",
   "name": "python3"
  },
  "language_info": {
   "codemirror_mode": {
    "name": "ipython",
    "version": 3
   },
   "file_extension": ".py",
   "mimetype": "text/x-python",
   "name": "python",
   "nbconvert_exporter": "python",
   "pygments_lexer": "ipython3",
   "version": "3.13.2"
  }
 },
 "nbformat": 4,
 "nbformat_minor": 5
}
