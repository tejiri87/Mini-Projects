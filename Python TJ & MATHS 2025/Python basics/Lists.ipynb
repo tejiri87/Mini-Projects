{
 "cells": [
  {
   "cell_type": "code",
   "execution_count": 7,
   "metadata": {},
   "outputs": [
    {
     "name": "stdout",
     "output_type": "stream",
     "text": [
      "[1, 2, 3, 4, 5, 6, 7, 8, 9, 10]\n"
     ]
    }
   ],
   "source": [
    "#Add 1 to 10 in a list\n",
    "L =[]\n",
    "for i in range(1,11):\n",
    "    L.append(i)\n",
    "print(L)\n",
    "\n"
   ]
  },
  {
   "cell_type": "code",
   "execution_count": null,
   "metadata": {},
   "outputs": [],
   "source": []
  },
  {
   "cell_type": "code",
   "execution_count": null,
   "metadata": {},
   "outputs": [
    {
     "ename": "",
     "evalue": "",
     "output_type": "error",
     "traceback": [
      "\u001b[1;31mFailed to start the Kernel. \n",
      "\u001b[1;31mUnable to start Kernel 'Python 3.13.2' due to a timeout waiting for the ports to get used. \n",
      "\u001b[1;31mView Jupyter <a href='command:jupyter.viewOutput'>log</a> for further details."
     ]
    }
   ],
   "source": [
    "#Scalar multiplication on a vector\n",
    "v = [2,3,4]\n",
    "s = -3\n",
    "\n",
    "L=[]\n",
    "for i in v:\n",
    "    result = i*s\n",
    "    L.append(result)\n",
    "print(L)\n",
    "\n",
    "LC =[i*s for i in v]\n",
    "print(LC)\n",
    "    "
   ]
  },
  {
   "cell_type": "code",
   "execution_count": 2,
   "metadata": {},
   "outputs": [
    {
     "name": "stdout",
     "output_type": "stream",
     "text": [
      "[1, 4, 9, 16]\n"
     ]
    }
   ],
   "source": [
    "#squares\n",
    "\n",
    "L = [1,2,3,4]\n",
    "\n",
    "LC = [i**2 for i in L]\n",
    "print(LC)"
   ]
  },
  {
   "cell_type": "code",
   "execution_count": 9,
   "metadata": {},
   "outputs": [
    {
     "name": "stdout",
     "output_type": "stream",
     "text": [
      "5\n",
      "10\n",
      "15\n",
      "20\n",
      "25\n",
      "30\n",
      "35\n",
      "40\n",
      "45\n",
      "50\n"
     ]
    }
   ],
   "source": [
    "#print all numbers divisible by 5 in range of 1 to 50\n",
    "for i in range(1,51):\n",
    "    if i%5 ==0:\n",
    "        print(i)"
   ]
  },
  {
   "cell_type": "code",
   "execution_count": 16,
   "metadata": {},
   "outputs": [
    {
     "name": "stdout",
     "output_type": "stream",
     "text": [
      "['Python', 'Php']\n"
     ]
    }
   ],
   "source": [
    "#find languages which start with letter \"p\"\n",
    "Languages =['Java','Python','Php','C','Javascript']\n",
    "LC = [language for language in Languages if language.startswith(\"P\")]\n",
    "print(LC)"
   ]
  },
  {
   "cell_type": "code",
   "execution_count": 1,
   "metadata": {},
   "outputs": [
    {
     "data": {
      "text/plain": [
       "[(1, 'Tejiri'), (2, 'Bappy'), (3, 'Ahmed'), (4, 'Simon'), (5, 'Alex')]"
      ]
     },
     "execution_count": 1,
     "metadata": {},
     "output_type": "execute_result"
    }
   ],
   "source": [
    "#ZIP FUNCTIONS\n",
    "roll_number = [1,2,3,4,5]\n",
    "student_name = ['Tejiri','Bappy','Ahmed','Simon','Alex']\n",
    "list(zip(roll_number,student_name))"
   ]
  },
  {
   "cell_type": "code",
   "execution_count": 8,
   "metadata": {},
   "outputs": [
    {
     "name": "stdout",
     "output_type": "stream",
     "text": [
      "Audi = 10\n",
      "BMW = 20\n",
      "TATA = 30\n",
      "Volvo = 5\n"
     ]
    }
   ],
   "source": [
    "#update on number of cars\n",
    "cars_name = [\"Audi\",\"BMW\",\"TATA\",\"Volvo\"]\n",
    "no_of_cars = [10,20,30,5]\n",
    "\n",
    "for i,j in zip(cars_name,no_of_cars):\n",
    "    print(f\"{i} = {j}\")\n",
    "    "
   ]
  },
  {
   "cell_type": "code",
   "execution_count": null,
   "metadata": {},
   "outputs": [],
   "source": []
  }
 ],
 "metadata": {
  "kernelspec": {
   "display_name": "Python 3",
   "language": "python",
   "name": "python3"
  },
  "language_info": {
   "codemirror_mode": {
    "name": "ipython",
    "version": 3
   },
   "file_extension": ".py",
   "mimetype": "text/x-python",
   "name": "python",
   "nbconvert_exporter": "python",
   "pygments_lexer": "ipython3",
   "version": "3.13.2"
  }
 },
 "nbformat": 4,
 "nbformat_minor": 2
}
