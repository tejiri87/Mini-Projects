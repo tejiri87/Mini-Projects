{
 "cells": [
  {
   "cell_type": "code",
   "execution_count": 1,
   "id": "183c59a1",
   "metadata": {},
   "outputs": [
    {
     "name": "stdout",
     "output_type": "stream",
     "text": [
      "[5, 7, 9, 11]\n"
     ]
    }
   ],
   "source": [
    "x = [1,2,3,4]\n",
    "y = [4,5,6,7]\n",
    "z =[]\n",
    "for i,j in zip(x,y):\n",
    "    z.append(i+j)\n",
    "print(z)"
   ]
  },
  {
   "cell_type": "code",
   "execution_count": null,
   "id": "96cb55df",
   "metadata": {},
   "outputs": [
    {
     "name": "stdout",
     "output_type": "stream",
     "text": [
      "[ 5  7  9 11]\n"
     ]
    }
   ],
   "source": [
    "#vectorized version using numpy, instead of for loop\n",
    "import numpy as np\n",
    "x = [1,2,3,4]\n",
    "y = [4,5,6,7]\n",
    "\n",
    "z = np.add(x,y)\n",
    "print(z)"
   ]
  },
  {
   "cell_type": "code",
   "execution_count": null,
   "id": "efacad8c",
   "metadata": {},
   "outputs": [
    {
     "name": "stdout",
     "output_type": "stream",
     "text": [
      "[6 8 10 12]\n"
     ]
    }
   ],
   "source": [
    "#CREATING MY OWN UNFUCNTION ADDITION FUNCTION\n",
    "import numpy as np\n",
    "def add(x,y):\n",
    "    return x+y\n",
    "\n",
    "myadd = np.frompyfunc(add,2,1)\n",
    "print(myadd([1,2,3,4],[5,6,7,8]))"
   ]
  },
  {
   "cell_type": "code",
   "execution_count": 3,
   "id": "02666a6a",
   "metadata": {},
   "outputs": [
    {
     "name": "stdout",
     "output_type": "stream",
     "text": [
      "[4 4 4 4]\n"
     ]
    }
   ],
   "source": [
    "#CREATING MY OWN UNFUCNTION SUBTRACTION FUNCTION\n",
    "import numpy as np\n",
    "def sub(x,y):\n",
    "    return y-x\n",
    "mysub = np.frompyfunc(sub,2,1) #frompyfunc() is used to add it to my numpy unfunc library\n",
    "print(mysub([1,2,3,4],[5,6,7,8]))\n"
   ]
  },
  {
   "cell_type": "code",
   "execution_count": 5,
   "id": "d10ed02c",
   "metadata": {},
   "outputs": [
    {
     "name": "stdout",
     "output_type": "stream",
     "text": [
      "[ 7  9 11 13 15]\n",
      "[5 5 5 5 5]\n",
      "[ 6 14 24 36 50]\n"
     ]
    }
   ],
   "source": [
    "#UNFUNC ARITHMETIC\n",
    "import numpy as np\n",
    "\n",
    "#ADDITION\n",
    "arr1= np.array([1,2,3,4,5])\n",
    "arr2= np.array([6,7,8,9,10])\n",
    "new_arr = np.add(arr1,arr2)\n",
    "print(new_arr)\n",
    "\n",
    "#SUBSTRACTION\n",
    "arr1= np.array([1,2,3,4,5])\n",
    "arr2= np.array([6,7,8,9,10])\n",
    "new_arr = np.subtract(arr2,arr1)\n",
    "print(new_arr)\n",
    "\n",
    "#MULTIPLICATION\n",
    "arr1= np.array([1,2,3,4,5])\n",
    "arr2= np.array([6,7,8,9,10])\n",
    "new_arr = np.multiply(arr2,arr1)\n",
    "print(new_arr)\n"
   ]
  },
  {
   "cell_type": "code",
   "execution_count": 7,
   "id": "6798ebbc",
   "metadata": {},
   "outputs": [
    {
     "name": "stdout",
     "output_type": "stream",
     "text": [
      "[0.         0.30103    0.47712125 0.60205999 0.69897    0.77815125\n",
      " 0.84509804 0.90308999 0.95424251 1.        ]\n",
      "[0.         0.69314718 1.09861229 1.38629436 1.60943791 1.79175947\n",
      " 1.94591015 2.07944154 2.19722458 2.30258509]\n"
     ]
    }
   ],
   "source": [
    "#LOG UNFUNC\n",
    "import numpy as np\n",
    "\n",
    "arr = np.arange(1,11)\n",
    "print(np.log10(arr))\n",
    "print(np.log(arr))"
   ]
  },
  {
   "cell_type": "code",
   "execution_count": 12,
   "id": "4cfd398b",
   "metadata": {},
   "outputs": [
    {
     "name": "stdout",
     "output_type": "stream",
     "text": [
      "55\n"
     ]
    }
   ],
   "source": [
    "#SUMMATION\n",
    "import numpy as np\n",
    "arr1= np.array([1,2,3,4,5])\n",
    "arr2= np.array([6,7,8,9,10])\n",
    "new_arr = np.sum([arr1,arr2])\n",
    "print(new_arr)"
   ]
  },
  {
   "cell_type": "code",
   "execution_count": 13,
   "id": "994dee7e",
   "metadata": {},
   "outputs": [
    {
     "name": "stdout",
     "output_type": "stream",
     "text": [
      "[15 40]\n"
     ]
    }
   ],
   "source": [
    "#SUMMATION OVER AN AXIS\n",
    "import numpy as np\n",
    "arr1= np.array([1,2,3,4,5])\n",
    "arr2= np.array([6,7,8,9,10])\n",
    "new_arr = np.sum([arr1,arr2],axis=1)\n",
    "print(new_arr)"
   ]
  },
  {
   "cell_type": "code",
   "execution_count": 14,
   "id": "cd304a03",
   "metadata": {},
   "outputs": [
    {
     "name": "stdout",
     "output_type": "stream",
     "text": [
      "[ 1  3  6 10 15 21 28 36 45 55]\n"
     ]
    }
   ],
   "source": [
    "#CUMMULATIVE SUM\n",
    "import numpy as np\n",
    "arr1= np.array([1,2,3,4,5])\n",
    "arr2= np.array([6,7,8,9,10])\n",
    "new_arr = np.cumsum([arr1,arr2])\n",
    "print(new_arr)"
   ]
  },
  {
   "cell_type": "code",
   "execution_count": 15,
   "id": "ee985b66",
   "metadata": {},
   "outputs": [
    {
     "name": "stdout",
     "output_type": "stream",
     "text": [
      "[1.         0.8660254  0.8660254  0.70710678]\n"
     ]
    }
   ],
   "source": [
    "#TRIGONOMETRIC FUNCTIONS\n",
    "import numpy as np\n",
    "arr = np.array([np.pi/2,np.pi/3,np.pi/3,np.pi/4])\n",
    "new_arr = np.sin(arr)\n",
    "print(new_arr)"
   ]
  },
  {
   "cell_type": "code",
   "execution_count": null,
   "id": "b7a49e3e",
   "metadata": {},
   "outputs": [],
   "source": [
    "#SETS\n",
    "import numpy as np\n",
    "\n",
    "arr = np.array([1, 1, 1, 2, 3, 4, 5, 5, 6, 7])\n",
    "\n",
    "x = np.unique(arr)\n",
    "\n",
    "print(x)"
   ]
  }
 ],
 "metadata": {
  "kernelspec": {
   "display_name": "Python 3",
   "language": "python",
   "name": "python3"
  },
  "language_info": {
   "codemirror_mode": {
    "name": "ipython",
    "version": 3
   },
   "file_extension": ".py",
   "mimetype": "text/x-python",
   "name": "python",
   "nbconvert_exporter": "python",
   "pygments_lexer": "ipython3",
   "version": "3.13.2"
  }
 },
 "nbformat": 4,
 "nbformat_minor": 5
}
